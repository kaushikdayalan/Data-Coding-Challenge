{
 "cells": [
  {
   "cell_type": "markdown",
   "metadata": {},
   "source": [
    "# Data Analysis & Understanding"
   ]
  },
  {
   "cell_type": "markdown",
   "metadata": {},
   "source": [
    "## imports and reading the data"
   ]
  },
  {
   "cell_type": "code",
   "execution_count": 16,
   "metadata": {},
   "outputs": [],
   "source": [
    "import pandas as pd"
   ]
  },
  {
   "cell_type": "code",
   "execution_count": 17,
   "metadata": {},
   "outputs": [],
   "source": [
    "customers = pd.read_csv(\"./customers.csv\", delimiter=\";\")\n",
    "invoices = pd.read_csv(\"./invoices.csv\", delimiter=\";\")\n",
    "positions = pd.read_csv(\"./positions.csv\", delimiter=\";\")"
   ]
  },
  {
   "cell_type": "code",
   "execution_count": 18,
   "metadata": {},
   "outputs": [
    {
     "data": {
      "text/html": [
       "<div>\n",
       "<style scoped>\n",
       "    .dataframe tbody tr th:only-of-type {\n",
       "        vertical-align: middle;\n",
       "    }\n",
       "\n",
       "    .dataframe tbody tr th {\n",
       "        vertical-align: top;\n",
       "    }\n",
       "\n",
       "    .dataframe thead th {\n",
       "        text-align: right;\n",
       "    }\n",
       "</style>\n",
       "<table border=\"1\" class=\"dataframe\">\n",
       "  <thead>\n",
       "    <tr style=\"text-align: right;\">\n",
       "      <th></th>\n",
       "      <th>id</th>\n",
       "      <th>Kdnr</th>\n",
       "      <th>Verlagsname</th>\n",
       "      <th>Region</th>\n",
       "    </tr>\n",
       "  </thead>\n",
       "  <tbody>\n",
       "    <tr>\n",
       "      <th>0</th>\n",
       "      <td>5</td>\n",
       "      <td>20172</td>\n",
       "      <td>1. FC Nürnberg</td>\n",
       "      <td>Nürnberg</td>\n",
       "    </tr>\n",
       "    <tr>\n",
       "      <th>1</th>\n",
       "      <td>19</td>\n",
       "      <td>20137</td>\n",
       "      <td>Allgäuer Zeitung / Allgäuer Zeitungsverlag GmbH</td>\n",
       "      <td>Bodensee</td>\n",
       "    </tr>\n",
       "    <tr>\n",
       "      <th>2</th>\n",
       "      <td>27</td>\n",
       "      <td>20115</td>\n",
       "      <td>Augsburger Allgemeine</td>\n",
       "      <td>München</td>\n",
       "    </tr>\n",
       "    <tr>\n",
       "      <th>3</th>\n",
       "      <td>69</td>\n",
       "      <td>10113</td>\n",
       "      <td>Brainpool TV Productions</td>\n",
       "      <td>Rheinland</td>\n",
       "    </tr>\n",
       "    <tr>\n",
       "      <th>4</th>\n",
       "      <td>72</td>\n",
       "      <td>10154</td>\n",
       "      <td>RFW / Redaktionsbüro Wipperfürth</td>\n",
       "      <td>Hamburg</td>\n",
       "    </tr>\n",
       "    <tr>\n",
       "      <th>...</th>\n",
       "      <td>...</td>\n",
       "      <td>...</td>\n",
       "      <td>...</td>\n",
       "      <td>...</td>\n",
       "    </tr>\n",
       "    <tr>\n",
       "      <th>596</th>\n",
       "      <td>14014</td>\n",
       "      <td>81391</td>\n",
       "      <td>PPF</td>\n",
       "      <td>NaN</td>\n",
       "    </tr>\n",
       "    <tr>\n",
       "      <th>597</th>\n",
       "      <td>14021</td>\n",
       "      <td>81398</td>\n",
       "      <td>VLAAMSE RADIO- EN TELEVISIEOMROEP (VRT)</td>\n",
       "      <td>NaN</td>\n",
       "    </tr>\n",
       "    <tr>\n",
       "      <th>598</th>\n",
       "      <td>14025</td>\n",
       "      <td>81402</td>\n",
       "      <td>Umweltinstitut München</td>\n",
       "      <td>NaN</td>\n",
       "    </tr>\n",
       "    <tr>\n",
       "      <th>599</th>\n",
       "      <td>14031</td>\n",
       "      <td>81408</td>\n",
       "      <td>Everprod - Groupe Elephant</td>\n",
       "      <td>NaN</td>\n",
       "    </tr>\n",
       "    <tr>\n",
       "      <th>600</th>\n",
       "      <td>14034</td>\n",
       "      <td>81411</td>\n",
       "      <td>Lennart Homeyer</td>\n",
       "      <td>NaN</td>\n",
       "    </tr>\n",
       "  </tbody>\n",
       "</table>\n",
       "<p>601 rows × 4 columns</p>\n",
       "</div>"
      ],
      "text/plain": [
       "        id   Kdnr                                      Verlagsname     Region\n",
       "0        5  20172                                   1. FC Nürnberg   Nürnberg\n",
       "1       19  20137  Allgäuer Zeitung / Allgäuer Zeitungsverlag GmbH   Bodensee\n",
       "2       27  20115                            Augsburger Allgemeine    München\n",
       "3       69  10113                         Brainpool TV Productions  Rheinland\n",
       "4       72  10154                 RFW / Redaktionsbüro Wipperfürth    Hamburg\n",
       "..     ...    ...                                              ...        ...\n",
       "596  14014  81391                                              PPF        NaN\n",
       "597  14021  81398          VLAAMSE RADIO- EN TELEVISIEOMROEP (VRT)        NaN\n",
       "598  14025  81402                           Umweltinstitut München        NaN\n",
       "599  14031  81408                       Everprod - Groupe Elephant        NaN\n",
       "600  14034  81411                                  Lennart Homeyer        NaN\n",
       "\n",
       "[601 rows x 4 columns]"
      ]
     },
     "execution_count": 18,
     "metadata": {},
     "output_type": "execute_result"
    }
   ],
   "source": [
    "customers"
   ]
  },
  {
   "cell_type": "code",
   "execution_count": null,
   "metadata": {},
   "outputs": [
    {
     "data": {
      "text/plain": [
       "(601, 4)"
      ]
     },
     "execution_count": 19,
     "metadata": {},
     "output_type": "execute_result"
    }
   ],
   "source": [
    "customers.shape"
   ]
  },
  {
   "cell_type": "code",
   "execution_count": 20,
   "metadata": {},
   "outputs": [
    {
     "data": {
      "text/html": [
       "<div>\n",
       "<style scoped>\n",
       "    .dataframe tbody tr th:only-of-type {\n",
       "        vertical-align: middle;\n",
       "    }\n",
       "\n",
       "    .dataframe tbody tr th {\n",
       "        vertical-align: top;\n",
       "    }\n",
       "\n",
       "    .dataframe thead th {\n",
       "        text-align: right;\n",
       "    }\n",
       "</style>\n",
       "<table border=\"1\" class=\"dataframe\">\n",
       "  <thead>\n",
       "    <tr style=\"text-align: right;\">\n",
       "      <th></th>\n",
       "      <th>ReNummer</th>\n",
       "      <th>SummeNetto</th>\n",
       "      <th>MwStSatz</th>\n",
       "      <th>ZahlungsbetragBrutto</th>\n",
       "      <th>KdNr</th>\n",
       "      <th>Summenebenkosten</th>\n",
       "      <th>ReDatum</th>\n",
       "      <th>Zahlungsdatum</th>\n",
       "    </tr>\n",
       "  </thead>\n",
       "  <tbody>\n",
       "    <tr>\n",
       "      <th>0</th>\n",
       "      <td>103601</td>\n",
       "      <td>11786.7</td>\n",
       "      <td>0</td>\n",
       "      <td>0.0</td>\n",
       "      <td>78911</td>\n",
       "      <td>0.0</td>\n",
       "      <td>2025-04-04 00:00:00.000</td>\n",
       "      <td>NaN</td>\n",
       "    </tr>\n",
       "    <tr>\n",
       "      <th>1</th>\n",
       "      <td>103600</td>\n",
       "      <td>379.0</td>\n",
       "      <td>7</td>\n",
       "      <td>0.0</td>\n",
       "      <td>79666</td>\n",
       "      <td>0.0</td>\n",
       "      <td>2025-04-03 00:00:00.000</td>\n",
       "      <td>NaN</td>\n",
       "    </tr>\n",
       "    <tr>\n",
       "      <th>2</th>\n",
       "      <td>103599</td>\n",
       "      <td>160.0</td>\n",
       "      <td>7</td>\n",
       "      <td>0.0</td>\n",
       "      <td>30145</td>\n",
       "      <td>0.0</td>\n",
       "      <td>2025-04-04 00:00:00.000</td>\n",
       "      <td>NaN</td>\n",
       "    </tr>\n",
       "    <tr>\n",
       "      <th>3</th>\n",
       "      <td>103598</td>\n",
       "      <td>225.0</td>\n",
       "      <td>7</td>\n",
       "      <td>0.0</td>\n",
       "      <td>10383</td>\n",
       "      <td>0.0</td>\n",
       "      <td>2025-04-01 00:00:00.000</td>\n",
       "      <td>NaN</td>\n",
       "    </tr>\n",
       "    <tr>\n",
       "      <th>4</th>\n",
       "      <td>103597</td>\n",
       "      <td>1260.0</td>\n",
       "      <td>7</td>\n",
       "      <td>0.0</td>\n",
       "      <td>20213</td>\n",
       "      <td>0.0</td>\n",
       "      <td>2025-04-03 00:00:00.000</td>\n",
       "      <td>NaN</td>\n",
       "    </tr>\n",
       "  </tbody>\n",
       "</table>\n",
       "</div>"
      ],
      "text/plain": [
       "   ReNummer  SummeNetto  MwStSatz  ZahlungsbetragBrutto   KdNr  \\\n",
       "0    103601     11786.7         0                   0.0  78911   \n",
       "1    103600       379.0         7                   0.0  79666   \n",
       "2    103599       160.0         7                   0.0  30145   \n",
       "3    103598       225.0         7                   0.0  10383   \n",
       "4    103597      1260.0         7                   0.0  20213   \n",
       "\n",
       "   Summenebenkosten                  ReDatum Zahlungsdatum  \n",
       "0               0.0  2025-04-04 00:00:00.000           NaN  \n",
       "1               0.0  2025-04-03 00:00:00.000           NaN  \n",
       "2               0.0  2025-04-04 00:00:00.000           NaN  \n",
       "3               0.0  2025-04-01 00:00:00.000           NaN  \n",
       "4               0.0  2025-04-03 00:00:00.000           NaN  "
      ]
     },
     "execution_count": 20,
     "metadata": {},
     "output_type": "execute_result"
    }
   ],
   "source": [
    "invoices.head()"
   ]
  },
  {
   "cell_type": "code",
   "execution_count": 21,
   "metadata": {},
   "outputs": [
    {
     "data": {
      "text/plain": [
       "(2000, 8)"
      ]
     },
     "execution_count": 21,
     "metadata": {},
     "output_type": "execute_result"
    }
   ],
   "source": [
    "invoices.shape"
   ]
  },
  {
   "cell_type": "code",
   "execution_count": 22,
   "metadata": {},
   "outputs": [
    {
     "data": {
      "text/html": [
       "<div>\n",
       "<style scoped>\n",
       "    .dataframe tbody tr th:only-of-type {\n",
       "        vertical-align: middle;\n",
       "    }\n",
       "\n",
       "    .dataframe tbody tr th {\n",
       "        vertical-align: top;\n",
       "    }\n",
       "\n",
       "    .dataframe thead th {\n",
       "        text-align: right;\n",
       "    }\n",
       "</style>\n",
       "<table border=\"1\" class=\"dataframe\">\n",
       "  <thead>\n",
       "    <tr style=\"text-align: right;\">\n",
       "      <th></th>\n",
       "      <th>id</th>\n",
       "      <th>ReId</th>\n",
       "      <th>KdNr</th>\n",
       "      <th>Nettobetrag</th>\n",
       "      <th>Bildnummer</th>\n",
       "      <th>VerDatum</th>\n",
       "    </tr>\n",
       "  </thead>\n",
       "  <tbody>\n",
       "    <tr>\n",
       "      <th>0</th>\n",
       "      <td>4154495</td>\n",
       "      <td>102038</td>\n",
       "      <td>50292.0</td>\n",
       "      <td>19.0</td>\n",
       "      <td>168161043.0</td>\n",
       "      <td>2022-09-29 00:00:00.000</td>\n",
       "    </tr>\n",
       "    <tr>\n",
       "      <th>1</th>\n",
       "      <td>4154496</td>\n",
       "      <td>102038</td>\n",
       "      <td>50292.0</td>\n",
       "      <td>19.0</td>\n",
       "      <td>108514408.0</td>\n",
       "      <td>2022-09-12 00:00:00.000</td>\n",
       "    </tr>\n",
       "    <tr>\n",
       "      <th>2</th>\n",
       "      <td>4154497</td>\n",
       "      <td>102038</td>\n",
       "      <td>50292.0</td>\n",
       "      <td>19.0</td>\n",
       "      <td>55374589.0</td>\n",
       "      <td>2022-09-08 00:00:00.000</td>\n",
       "    </tr>\n",
       "    <tr>\n",
       "      <th>3</th>\n",
       "      <td>4154498</td>\n",
       "      <td>102038</td>\n",
       "      <td>50292.0</td>\n",
       "      <td>19.0</td>\n",
       "      <td>55374589.0</td>\n",
       "      <td>2022-09-08 00:00:00.000</td>\n",
       "    </tr>\n",
       "    <tr>\n",
       "      <th>4</th>\n",
       "      <td>4154499</td>\n",
       "      <td>102038</td>\n",
       "      <td>50292.0</td>\n",
       "      <td>19.0</td>\n",
       "      <td>57865918.0</td>\n",
       "      <td>2022-09-08 00:00:00.000</td>\n",
       "    </tr>\n",
       "  </tbody>\n",
       "</table>\n",
       "</div>"
      ],
      "text/plain": [
       "        id    ReId     KdNr  Nettobetrag   Bildnummer                 VerDatum\n",
       "0  4154495  102038  50292.0         19.0  168161043.0  2022-09-29 00:00:00.000\n",
       "1  4154496  102038  50292.0         19.0  108514408.0  2022-09-12 00:00:00.000\n",
       "2  4154497  102038  50292.0         19.0   55374589.0  2022-09-08 00:00:00.000\n",
       "3  4154498  102038  50292.0         19.0   55374589.0  2022-09-08 00:00:00.000\n",
       "4  4154499  102038  50292.0         19.0   57865918.0  2022-09-08 00:00:00.000"
      ]
     },
     "execution_count": 22,
     "metadata": {},
     "output_type": "execute_result"
    }
   ],
   "source": [
    "positions.head()"
   ]
  },
  {
   "cell_type": "code",
   "execution_count": 23,
   "metadata": {},
   "outputs": [
    {
     "data": {
      "text/plain": [
       "(129092, 6)"
      ]
     },
     "execution_count": 23,
     "metadata": {},
     "output_type": "execute_result"
    }
   ],
   "source": [
    "positions.shape"
   ]
  },
  {
   "cell_type": "markdown",
   "metadata": {},
   "source": [
    "## Merging the dataframes into a dataset"
   ]
  },
  {
   "cell_type": "code",
   "execution_count": 25,
   "metadata": {},
   "outputs": [],
   "source": [
    "merged_data = pd.merge(\n",
    "    invoices, positions, left_on=\"ReNummer\", right_on=\"ReId\", how=\"outer\"\n",
    ")"
   ]
  },
  {
   "cell_type": "code",
   "execution_count": 26,
   "metadata": {},
   "outputs": [
    {
     "data": {
      "text/html": [
       "<div>\n",
       "<style scoped>\n",
       "    .dataframe tbody tr th:only-of-type {\n",
       "        vertical-align: middle;\n",
       "    }\n",
       "\n",
       "    .dataframe tbody tr th {\n",
       "        vertical-align: top;\n",
       "    }\n",
       "\n",
       "    .dataframe thead th {\n",
       "        text-align: right;\n",
       "    }\n",
       "</style>\n",
       "<table border=\"1\" class=\"dataframe\">\n",
       "  <thead>\n",
       "    <tr style=\"text-align: right;\">\n",
       "      <th></th>\n",
       "      <th>ReNummer</th>\n",
       "      <th>SummeNetto</th>\n",
       "      <th>MwStSatz</th>\n",
       "      <th>ZahlungsbetragBrutto</th>\n",
       "      <th>KdNr_x</th>\n",
       "      <th>Summenebenkosten</th>\n",
       "      <th>ReDatum</th>\n",
       "      <th>Zahlungsdatum</th>\n",
       "      <th>id</th>\n",
       "      <th>ReId</th>\n",
       "      <th>KdNr_y</th>\n",
       "      <th>Nettobetrag</th>\n",
       "      <th>Bildnummer</th>\n",
       "      <th>VerDatum</th>\n",
       "    </tr>\n",
       "  </thead>\n",
       "  <tbody>\n",
       "    <tr>\n",
       "      <th>0</th>\n",
       "      <td>101602</td>\n",
       "      <td>145.0</td>\n",
       "      <td>0</td>\n",
       "      <td>145.0</td>\n",
       "      <td>81044</td>\n",
       "      <td>0.0</td>\n",
       "      <td>2024-11-04 00:00:00.000</td>\n",
       "      <td>2024-11-08 00:00:00.000</td>\n",
       "      <td>4371424.0</td>\n",
       "      <td>101602.0</td>\n",
       "      <td>10988.0</td>\n",
       "      <td>8.38</td>\n",
       "      <td>1.012560e+09</td>\n",
       "      <td>2022-08-03 00:00:00.000</td>\n",
       "    </tr>\n",
       "    <tr>\n",
       "      <th>1</th>\n",
       "      <td>101602</td>\n",
       "      <td>145.0</td>\n",
       "      <td>0</td>\n",
       "      <td>145.0</td>\n",
       "      <td>81044</td>\n",
       "      <td>0.0</td>\n",
       "      <td>2024-11-04 00:00:00.000</td>\n",
       "      <td>2024-11-08 00:00:00.000</td>\n",
       "      <td>4371425.0</td>\n",
       "      <td>101602.0</td>\n",
       "      <td>10988.0</td>\n",
       "      <td>8.38</td>\n",
       "      <td>1.012138e+09</td>\n",
       "      <td>2022-08-03 00:00:00.000</td>\n",
       "    </tr>\n",
       "    <tr>\n",
       "      <th>2</th>\n",
       "      <td>101602</td>\n",
       "      <td>145.0</td>\n",
       "      <td>0</td>\n",
       "      <td>145.0</td>\n",
       "      <td>81044</td>\n",
       "      <td>0.0</td>\n",
       "      <td>2024-11-04 00:00:00.000</td>\n",
       "      <td>2024-11-08 00:00:00.000</td>\n",
       "      <td>4371426.0</td>\n",
       "      <td>101602.0</td>\n",
       "      <td>10988.0</td>\n",
       "      <td>8.38</td>\n",
       "      <td>1.012104e+09</td>\n",
       "      <td>2022-08-03 00:00:00.000</td>\n",
       "    </tr>\n",
       "    <tr>\n",
       "      <th>3</th>\n",
       "      <td>101602</td>\n",
       "      <td>145.0</td>\n",
       "      <td>0</td>\n",
       "      <td>145.0</td>\n",
       "      <td>81044</td>\n",
       "      <td>0.0</td>\n",
       "      <td>2024-11-04 00:00:00.000</td>\n",
       "      <td>2024-11-08 00:00:00.000</td>\n",
       "      <td>4371427.0</td>\n",
       "      <td>101602.0</td>\n",
       "      <td>10988.0</td>\n",
       "      <td>8.38</td>\n",
       "      <td>1.012356e+09</td>\n",
       "      <td>2022-08-05 00:00:00.000</td>\n",
       "    </tr>\n",
       "    <tr>\n",
       "      <th>4</th>\n",
       "      <td>101602</td>\n",
       "      <td>145.0</td>\n",
       "      <td>0</td>\n",
       "      <td>145.0</td>\n",
       "      <td>81044</td>\n",
       "      <td>0.0</td>\n",
       "      <td>2024-11-04 00:00:00.000</td>\n",
       "      <td>2024-11-08 00:00:00.000</td>\n",
       "      <td>4371428.0</td>\n",
       "      <td>101602.0</td>\n",
       "      <td>10988.0</td>\n",
       "      <td>8.38</td>\n",
       "      <td>1.013627e+09</td>\n",
       "      <td>2022-08-05 00:00:00.000</td>\n",
       "    </tr>\n",
       "  </tbody>\n",
       "</table>\n",
       "</div>"
      ],
      "text/plain": [
       "   ReNummer  SummeNetto  MwStSatz  ZahlungsbetragBrutto  KdNr_x  \\\n",
       "0    101602       145.0         0                 145.0   81044   \n",
       "1    101602       145.0         0                 145.0   81044   \n",
       "2    101602       145.0         0                 145.0   81044   \n",
       "3    101602       145.0         0                 145.0   81044   \n",
       "4    101602       145.0         0                 145.0   81044   \n",
       "\n",
       "   Summenebenkosten                  ReDatum            Zahlungsdatum  \\\n",
       "0               0.0  2024-11-04 00:00:00.000  2024-11-08 00:00:00.000   \n",
       "1               0.0  2024-11-04 00:00:00.000  2024-11-08 00:00:00.000   \n",
       "2               0.0  2024-11-04 00:00:00.000  2024-11-08 00:00:00.000   \n",
       "3               0.0  2024-11-04 00:00:00.000  2024-11-08 00:00:00.000   \n",
       "4               0.0  2024-11-04 00:00:00.000  2024-11-08 00:00:00.000   \n",
       "\n",
       "          id      ReId   KdNr_y  Nettobetrag    Bildnummer  \\\n",
       "0  4371424.0  101602.0  10988.0         8.38  1.012560e+09   \n",
       "1  4371425.0  101602.0  10988.0         8.38  1.012138e+09   \n",
       "2  4371426.0  101602.0  10988.0         8.38  1.012104e+09   \n",
       "3  4371427.0  101602.0  10988.0         8.38  1.012356e+09   \n",
       "4  4371428.0  101602.0  10988.0         8.38  1.013627e+09   \n",
       "\n",
       "                  VerDatum  \n",
       "0  2022-08-03 00:00:00.000  \n",
       "1  2022-08-03 00:00:00.000  \n",
       "2  2022-08-03 00:00:00.000  \n",
       "3  2022-08-05 00:00:00.000  \n",
       "4  2022-08-05 00:00:00.000  "
      ]
     },
     "execution_count": 26,
     "metadata": {},
     "output_type": "execute_result"
    }
   ],
   "source": [
    "merged_data.head()"
   ]
  },
  {
   "cell_type": "code",
   "execution_count": 27,
   "metadata": {},
   "outputs": [],
   "source": [
    "merged_data = merged_data.rename({\"KdNr_x\": \"KdNr_inv\", \"KdNr_y\": \"KdNr_pos\"}, axis=1)"
   ]
  },
  {
   "cell_type": "code",
   "execution_count": 28,
   "metadata": {},
   "outputs": [],
   "source": [
    "merged_data = pd.merge(\n",
    "    merged_data, customers, left_on=\"KdNr_inv\", right_on=\"Kdnr\", how=\"outer\"\n",
    ")"
   ]
  },
  {
   "cell_type": "code",
   "execution_count": 32,
   "metadata": {},
   "outputs": [
    {
     "data": {
      "text/plain": [
       "(129094, 18)"
      ]
     },
     "execution_count": 32,
     "metadata": {},
     "output_type": "execute_result"
    }
   ],
   "source": [
    "merged_data.shape"
   ]
  },
  {
   "cell_type": "code",
   "execution_count": 33,
   "metadata": {},
   "outputs": [
    {
     "data": {
      "text/html": [
       "<div>\n",
       "<style scoped>\n",
       "    .dataframe tbody tr th:only-of-type {\n",
       "        vertical-align: middle;\n",
       "    }\n",
       "\n",
       "    .dataframe tbody tr th {\n",
       "        vertical-align: top;\n",
       "    }\n",
       "\n",
       "    .dataframe thead th {\n",
       "        text-align: right;\n",
       "    }\n",
       "</style>\n",
       "<table border=\"1\" class=\"dataframe\">\n",
       "  <thead>\n",
       "    <tr style=\"text-align: right;\">\n",
       "      <th></th>\n",
       "      <th>ReNummer</th>\n",
       "      <th>SummeNetto</th>\n",
       "      <th>MwStSatz</th>\n",
       "      <th>ZahlungsbetragBrutto</th>\n",
       "      <th>KdNr_inv</th>\n",
       "      <th>Summenebenkosten</th>\n",
       "      <th>ReDatum</th>\n",
       "      <th>Zahlungsdatum</th>\n",
       "      <th>id_x</th>\n",
       "      <th>ReId</th>\n",
       "      <th>KdNr_pos</th>\n",
       "      <th>Nettobetrag</th>\n",
       "      <th>Bildnummer</th>\n",
       "      <th>VerDatum</th>\n",
       "      <th>id_y</th>\n",
       "      <th>Kdnr</th>\n",
       "      <th>Verlagsname</th>\n",
       "      <th>Region</th>\n",
       "    </tr>\n",
       "  </thead>\n",
       "  <tbody>\n",
       "    <tr>\n",
       "      <th>0</th>\n",
       "      <td>101945</td>\n",
       "      <td>23000.0</td>\n",
       "      <td>7</td>\n",
       "      <td>24610.0</td>\n",
       "      <td>10039</td>\n",
       "      <td>0.0</td>\n",
       "      <td>2024-12-02 00:00:00.000</td>\n",
       "      <td>2024-12-17 00:00:00.000</td>\n",
       "      <td>4184851.0</td>\n",
       "      <td>101945.0</td>\n",
       "      <td>76147.0</td>\n",
       "      <td>32.89</td>\n",
       "      <td>170145663.0</td>\n",
       "      <td>2022-10-05 00:00:00.000</td>\n",
       "      <td>380</td>\n",
       "      <td>10039</td>\n",
       "      <td>info Network / RTL</td>\n",
       "      <td>Rheinland</td>\n",
       "    </tr>\n",
       "    <tr>\n",
       "      <th>1</th>\n",
       "      <td>101945</td>\n",
       "      <td>23000.0</td>\n",
       "      <td>7</td>\n",
       "      <td>24610.0</td>\n",
       "      <td>10039</td>\n",
       "      <td>0.0</td>\n",
       "      <td>2024-12-02 00:00:00.000</td>\n",
       "      <td>2024-12-17 00:00:00.000</td>\n",
       "      <td>4184852.0</td>\n",
       "      <td>101945.0</td>\n",
       "      <td>76147.0</td>\n",
       "      <td>32.89</td>\n",
       "      <td>170051534.0</td>\n",
       "      <td>2022-10-05 00:00:00.000</td>\n",
       "      <td>380</td>\n",
       "      <td>10039</td>\n",
       "      <td>info Network / RTL</td>\n",
       "      <td>Rheinland</td>\n",
       "    </tr>\n",
       "    <tr>\n",
       "      <th>2</th>\n",
       "      <td>101945</td>\n",
       "      <td>23000.0</td>\n",
       "      <td>7</td>\n",
       "      <td>24610.0</td>\n",
       "      <td>10039</td>\n",
       "      <td>0.0</td>\n",
       "      <td>2024-12-02 00:00:00.000</td>\n",
       "      <td>2024-12-17 00:00:00.000</td>\n",
       "      <td>4184853.0</td>\n",
       "      <td>101945.0</td>\n",
       "      <td>76147.0</td>\n",
       "      <td>32.89</td>\n",
       "      <td>116150742.0</td>\n",
       "      <td>2022-10-11 00:00:00.000</td>\n",
       "      <td>380</td>\n",
       "      <td>10039</td>\n",
       "      <td>info Network / RTL</td>\n",
       "      <td>Rheinland</td>\n",
       "    </tr>\n",
       "    <tr>\n",
       "      <th>3</th>\n",
       "      <td>101945</td>\n",
       "      <td>23000.0</td>\n",
       "      <td>7</td>\n",
       "      <td>24610.0</td>\n",
       "      <td>10039</td>\n",
       "      <td>0.0</td>\n",
       "      <td>2024-12-02 00:00:00.000</td>\n",
       "      <td>2024-12-17 00:00:00.000</td>\n",
       "      <td>4184854.0</td>\n",
       "      <td>101945.0</td>\n",
       "      <td>76147.0</td>\n",
       "      <td>32.89</td>\n",
       "      <td>170004281.0</td>\n",
       "      <td>2022-10-11 00:00:00.000</td>\n",
       "      <td>380</td>\n",
       "      <td>10039</td>\n",
       "      <td>info Network / RTL</td>\n",
       "      <td>Rheinland</td>\n",
       "    </tr>\n",
       "    <tr>\n",
       "      <th>4</th>\n",
       "      <td>101945</td>\n",
       "      <td>23000.0</td>\n",
       "      <td>7</td>\n",
       "      <td>24610.0</td>\n",
       "      <td>10039</td>\n",
       "      <td>0.0</td>\n",
       "      <td>2024-12-02 00:00:00.000</td>\n",
       "      <td>2024-12-17 00:00:00.000</td>\n",
       "      <td>4184855.0</td>\n",
       "      <td>101945.0</td>\n",
       "      <td>76147.0</td>\n",
       "      <td>32.89</td>\n",
       "      <td>152425274.0</td>\n",
       "      <td>2022-10-11 00:00:00.000</td>\n",
       "      <td>380</td>\n",
       "      <td>10039</td>\n",
       "      <td>info Network / RTL</td>\n",
       "      <td>Rheinland</td>\n",
       "    </tr>\n",
       "  </tbody>\n",
       "</table>\n",
       "</div>"
      ],
      "text/plain": [
       "   ReNummer  SummeNetto  MwStSatz  ZahlungsbetragBrutto  KdNr_inv  \\\n",
       "0    101945     23000.0         7               24610.0     10039   \n",
       "1    101945     23000.0         7               24610.0     10039   \n",
       "2    101945     23000.0         7               24610.0     10039   \n",
       "3    101945     23000.0         7               24610.0     10039   \n",
       "4    101945     23000.0         7               24610.0     10039   \n",
       "\n",
       "   Summenebenkosten                  ReDatum            Zahlungsdatum  \\\n",
       "0               0.0  2024-12-02 00:00:00.000  2024-12-17 00:00:00.000   \n",
       "1               0.0  2024-12-02 00:00:00.000  2024-12-17 00:00:00.000   \n",
       "2               0.0  2024-12-02 00:00:00.000  2024-12-17 00:00:00.000   \n",
       "3               0.0  2024-12-02 00:00:00.000  2024-12-17 00:00:00.000   \n",
       "4               0.0  2024-12-02 00:00:00.000  2024-12-17 00:00:00.000   \n",
       "\n",
       "        id_x      ReId  KdNr_pos  Nettobetrag   Bildnummer  \\\n",
       "0  4184851.0  101945.0   76147.0        32.89  170145663.0   \n",
       "1  4184852.0  101945.0   76147.0        32.89  170051534.0   \n",
       "2  4184853.0  101945.0   76147.0        32.89  116150742.0   \n",
       "3  4184854.0  101945.0   76147.0        32.89  170004281.0   \n",
       "4  4184855.0  101945.0   76147.0        32.89  152425274.0   \n",
       "\n",
       "                  VerDatum  id_y   Kdnr         Verlagsname     Region  \n",
       "0  2022-10-05 00:00:00.000   380  10039  info Network / RTL  Rheinland  \n",
       "1  2022-10-05 00:00:00.000   380  10039  info Network / RTL  Rheinland  \n",
       "2  2022-10-11 00:00:00.000   380  10039  info Network / RTL  Rheinland  \n",
       "3  2022-10-11 00:00:00.000   380  10039  info Network / RTL  Rheinland  \n",
       "4  2022-10-11 00:00:00.000   380  10039  info Network / RTL  Rheinland  "
      ]
     },
     "execution_count": 33,
     "metadata": {},
     "output_type": "execute_result"
    }
   ],
   "source": [
    "merged_data.head()"
   ]
  },
  {
   "cell_type": "code",
   "execution_count": 116,
   "metadata": {},
   "outputs": [
    {
     "data": {
      "text/plain": [
       "id_x                        0\n",
       "Kdnr                        0\n",
       "Verlagsname                 0\n",
       "Region                  52296\n",
       "ReNummer                    0\n",
       "SummeNetto                  0\n",
       "MwStSatz                    0\n",
       "ZahlungsbetragBrutto        3\n",
       "KdNr_x                      0\n",
       "Summenebenkosten           19\n",
       "ReDatum                     0\n",
       "Zahlungsdatum           18012\n",
       "id_y                        2\n",
       "ReId                        2\n",
       "KdNr_y                      3\n",
       "Nettobetrag                 3\n",
       "Bildnummer                  3\n",
       "VerDatum                    6\n",
       "dtype: int64"
      ]
     },
     "execution_count": 116,
     "metadata": {},
     "output_type": "execute_result"
    }
   ],
   "source": [
    "merged_data.isnull().sum()"
   ]
  },
  {
   "cell_type": "code",
   "execution_count": 65,
   "metadata": {},
   "outputs": [
    {
     "name": "stdout",
     "output_type": "stream",
     "text": [
      "Number of positions missing an ReNummer: 0\n"
     ]
    }
   ],
   "source": [
    "print(\n",
    "    f\"Number of positions missing an ReNummer: {len(merged_data[merged_data['ReNummer'].isna()])}\"\n",
    ")"
   ]
  },
  {
   "cell_type": "markdown",
   "metadata": {},
   "source": [
    "### How many positions are linked to invoices that are missing payment info"
   ]
  },
  {
   "cell_type": "code",
   "execution_count": 45,
   "metadata": {},
   "outputs": [
    {
     "name": "stdout",
     "output_type": "stream",
     "text": [
      "Number of positions missing payment info: 18026\n"
     ]
    }
   ],
   "source": [
    "positions_missing_payment = merged_data[\n",
    "    (merged_data[\"Zahlungsdatum\"].isna())\n",
    "    | (merged_data[\"ZahlungsbetragBrutto\"].isna())\n",
    "    | (merged_data[\"ZahlungsbetragBrutto\"] == 0)\n",
    "]\n",
    "\n",
    "print(f\"Number of positions missing payment info: {len(positions_missing_payment)}\")"
   ]
  },
  {
   "cell_type": "markdown",
   "metadata": {},
   "source": [
    "### How much revenue is attributed to placeholder media ID '100000000'"
   ]
  },
  {
   "cell_type": "code",
   "execution_count": 58,
   "metadata": {},
   "outputs": [
    {
     "name": "stdout",
     "output_type": "stream",
     "text": [
      "Revenue earned by media ID 100000000: 5289609.73\n"
     ]
    }
   ],
   "source": [
    "media_100000000_revenue = merged_data[merged_data[\"Bildnummer\"] == 100000000]\n",
    "media_100000000_revenue = media_100000000_revenue.groupby(\"ReNummer\")[\n",
    "    \"ZahlungsbetragBrutto\"\n",
    "].sum()\n",
    "print(f\"Revenue earned by media ID 100000000: {media_100000000_revenue.sum()}\")"
   ]
  },
  {
   "cell_type": "markdown",
   "metadata": {},
   "source": [
    "### How many invoices have no positions attached"
   ]
  },
  {
   "cell_type": "code",
   "execution_count": 64,
   "metadata": {},
   "outputs": [
    {
     "name": "stdout",
     "output_type": "stream",
     "text": [
      "Number of invoices missing positions: 2\n"
     ]
    }
   ],
   "source": [
    "invoices_missing_positions = merged_data[merged_data[\"ReId\"].isna()]\n",
    "print(f\"Number of invoices missing positions: {len(invoices_missing_positions)}\")"
   ]
  },
  {
   "cell_type": "code",
   "execution_count": null,
   "metadata": {},
   "outputs": [],
   "source": []
  }
 ],
 "metadata": {
  "kernelspec": {
   "display_name": ".env",
   "language": "python",
   "name": "python3"
  },
  "language_info": {
   "codemirror_mode": {
    "name": "ipython",
    "version": 3
   },
   "file_extension": ".py",
   "mimetype": "text/x-python",
   "name": "python",
   "nbconvert_exporter": "python",
   "pygments_lexer": "ipython3",
   "version": "3.13.2"
  }
 },
 "nbformat": 4,
 "nbformat_minor": 2
}
